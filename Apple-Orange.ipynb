{
 "cells": [
  {
   "cell_type": "code",
   "execution_count": 23,
   "id": "42b8b60f",
   "metadata": {},
   "outputs": [
    {
     "name": "stdout",
     "output_type": "stream",
     "text": [
      "Orange\n"
     ]
    }
   ],
   "source": [
    "from sklearn import tree\n",
    "\n",
    "features = [[140,1],[150,1],[150,0],[160,0],[135,0]]\n",
    "\n",
    "labels = [\"Orange\", \"Orange\", \"Apple\", \"Apple\", \"Orange\"]\n",
    "\n",
    "clf = tree.DecisionTreeClassifier()\n",
    "clf.fit(features, labels)\n",
    "\n",
    "res = clf.predict([[145,1]])\n",
    "\n",
    "print(res[0])"
   ]
  }
 ],
 "metadata": {
  "kernelspec": {
   "display_name": "Python 3",
   "language": "python",
   "name": "python3"
  },
  "language_info": {
   "codemirror_mode": {
    "name": "ipython",
    "version": 3
   },
   "file_extension": ".py",
   "mimetype": "text/x-python",
   "name": "python",
   "nbconvert_exporter": "python",
   "pygments_lexer": "ipython3",
   "version": "3.8.8"
  }
 },
 "nbformat": 4,
 "nbformat_minor": 5
}
